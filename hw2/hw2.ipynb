{
 "cells": [
  {
   "cell_type": "code",
   "execution_count": 2,
   "metadata": {},
   "outputs": [],
   "source": [
    "import numpy as np\n",
    "from sympy import symbols, solve\n",
    "import math"
   ]
  },
  {
   "cell_type": "code",
   "execution_count": 11,
   "metadata": {},
   "outputs": [
    {
     "name": "stdout",
     "output_type": "stream",
     "text": [
      "c = 0.0900000000000000\n",
      "F(-3) = 0.600000000000000\n",
      "F(-2) = 0.600000000000000\n",
      "F(13) = 1.00000000000000\n"
     ]
    }
   ],
   "source": [
    "c = symbols('c')\n",
    "c = solve(3*c + 0.08 + 0.25 + 2*c + 0.22 - 1, c)[0]\n",
    "print(\"c =\", c)\n",
    "\n",
    "table = np.array([(-8, 3*c), (-5, 0.08), (-3, 0.25), (6, 2*c), (11, 0.22)])\n",
    "\n",
    "print(\"F(-3) =\", table[table[:, 0] <= -3, 1].sum())\n",
    "print(\"F(-2) =\", table[table[:, 0] <= -2, 1].sum())\n",
    "print(\"F(13) =\", table[table[:, 0] <= 13, 1].sum())"
   ]
  },
  {
   "cell_type": "code",
   "execution_count": 10,
   "metadata": {},
   "outputs": [
    {
     "name": "stdout",
     "output_type": "stream",
     "text": [
      "Game: \n",
      "P(X = 3) = 0.117365\n",
      "P(X < 3) = 0.013881\n",
      "P(X <= 3) = 0.131246\n",
      "P(X > 3) = 0.868754\n",
      "P(X >= 3) = 0.986119\n",
      "F(3) = 0.131246\n",
      "EX = 4.499495\n",
      "DX = 0.8282237449750021\n",
      "Calculated:\n",
      "P(X = 3) = 0.1173890608875129\n",
      "P(X < 3) = 0.01393188854489164\n",
      "P(X <= 3) = 0.13132094943240455\n",
      "P(X > 3) = 0.8686790505675954\n",
      "P(X >= 3) = 0.9860681114551083\n",
      "F(3) = 0.13132094943240455\n",
      "EX = 4.5\n",
      "DX = 0.8289473684210549\n"
     ]
    }
   ],
   "source": [
    "n = 1_000_000\n",
    "table = np.array([0] * 5 + [1] * 15)\n",
    "\n",
    "a = 0\n",
    "b = 0\n",
    "c = 0\n",
    "d = 0\n",
    "e = 0\n",
    "ex = 0\n",
    "dx = 0\n",
    "\n",
    "for i in range(n):\n",
    "    np.random.shuffle(table)\n",
    "    good = (table[:6] == 1).sum()\n",
    "    if  good == 3:\n",
    "        a += 1\n",
    "    if good < 3:\n",
    "        b += 1\n",
    "    if good <= 3:\n",
    "        c += 1\n",
    "    if good> 3:\n",
    "        d += 1\n",
    "    if good >= 3:\n",
    "        e += 1\n",
    "    ex += good\n",
    "    dx += good**2\n",
    "\n",
    "print(\"Game: \")\n",
    "print(\"P(X = 3) =\", a / n)\n",
    "print(\"P(X < 3) =\", b / n)\n",
    "print(\"P(X <= 3) =\", c / n)\n",
    "print(\"P(X > 3) =\", d / n)\n",
    "print(\"P(X >= 3) =\", e / n)\n",
    "print(\"F(3) =\", c / n)\n",
    "print(\"EX =\", ex / n)\n",
    "print(\"DX =\", dx / n - (ex / n)**2)\n",
    "\n",
    "\n",
    "table = [\n",
    "    math.comb(15, 1) * math.comb(5, 5) / math.comb(20, 6), # 1\n",
    "    math.comb(15, 2) * math.comb(5, 4) / math.comb(20, 6), # 2\n",
    "    math.comb(15, 3) * math.comb(5, 3) / math.comb(20, 6), # 3\n",
    "    math.comb(15, 4) * math.comb(5, 2) / math.comb(20, 6), # 4\n",
    "    math.comb(15, 5) * math.comb(5, 1) / math.comb(20, 6), # 5\n",
    "    math.comb(15, 6) * math.comb(5, 0) / math.comb(20, 6), # 6\n",
    "]\n",
    "\n",
    "print(\"Calculated:\")\n",
    "print(\"P(X = 3) =\", table[2])\n",
    "print(\"P(X < 3) =\", table[0] + table[1])\n",
    "print(\"P(X <= 3) =\", table[0] + table[1] + table[2])\n",
    "print(\"P(X > 3) =\", table[3] + table[4] + table[5])\n",
    "print(\"P(X >= 3) =\", table[2] + table[3] + table[4] + table[5])\n",
    "print(\"F(3) =\", table[0] + table[1] + table[2])\n",
    "ex = np.multiply(table, np.arange(1, 7)).sum()\n",
    "print(\"EX =\", ex)\n",
    "print(\"DX =\", np.multiply(table, np.arange(1, 7)**2).sum() - ex**2)\n"
   ]
  }
 ],
 "metadata": {
  "kernelspec": {
   "display_name": "Python 3.8.5 64-bit",
   "language": "python",
   "name": "python3"
  },
  "language_info": {
   "codemirror_mode": {
    "name": "ipython",
    "version": 3
   },
   "file_extension": ".py",
   "mimetype": "text/x-python",
   "name": "python",
   "nbconvert_exporter": "python",
   "pygments_lexer": "ipython3",
   "version": "3.8.5"
  },
  "orig_nbformat": 4,
  "vscode": {
   "interpreter": {
    "hash": "570feb405e2e27c949193ac68f46852414290d515b0ba6e5d90d076ed2284471"
   }
  }
 },
 "nbformat": 4,
 "nbformat_minor": 2
}
