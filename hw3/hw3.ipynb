{
 "cells": [
  {
   "cell_type": "code",
   "execution_count": 2,
   "metadata": {},
   "outputs": [],
   "source": [
    "from sympy import symbols, integrate, Eq, solve, solveset, Rational, oo, Integral, simplify, factor, S, exp\n",
    "from sympy.abc import a"
   ]
  },
  {
   "cell_type": "code",
   "execution_count": 4,
   "metadata": {},
   "outputs": [
    {
     "name": "stdout",
     "output_type": "stream",
     "text": [
      "c = 2/35\n",
      "---\n",
      "0\n",
      "(a - 2)**2/35\n",
      "-(a**2 - 18*a + 67)/14\n",
      "1\n",
      "---\n",
      "P(X < 8.4) = 0.974285714285715\n",
      "P(6 < X < 8.6) 0.531428571428572\n",
      "---\n",
      "6\n"
     ]
    }
   ],
   "source": [
    "x = symbols('x')\n",
    "c = symbols('c')\n",
    "\n",
    "f1 = c * (x - 2)\n",
    "f2 = Rational(1,7)*(9 - x)\n",
    "\n",
    "s1 = integrate(f1, (x, 2, 7))\n",
    "s2 = integrate(f2, (x, 7, 9))\n",
    "\n",
    "eq = Eq(s1 + s2, 1)\n",
    "\n",
    "c_res = solve(eq, c)[0]\n",
    "\n",
    "print(\"c =\", c_res)\n",
    "print('---')\n",
    "\n",
    "f1 = f1.subs({c: c_res})\n",
    "\n",
    "d0 = 0\n",
    "d1 = integrate(f1, (x, 2, a))\n",
    "d2 = integrate(f1, (x, 2, 7)) + integrate(f2, (x, 7, a))\n",
    "d3 = integrate(f1, (x, 2, 7)) + integrate(f2, (x, 7, 9))\n",
    "\n",
    "\n",
    "print(factor(d0))\n",
    "print(factor(d1))\n",
    "print(factor(d2))\n",
    "print(factor(d3))\n",
    "print(\"---\")\n",
    "print(\"P(X < 8.4) =\", d2.subs({a: 8.4}))\n",
    "print(\"P(6 < X < 8.6)\", d2.subs({ a: 8.6}) - d1.subs({a: 6}))\n",
    "print(\"---\")\n",
    "print(integrate(x * f1, (x, 2, 7)) + integrate(x * f2, (x, 7, 9)))\n"
   ]
  },
  {
   "cell_type": "code",
   "execution_count": 3,
   "metadata": {},
   "outputs": [
    {
     "name": "stdout",
     "output_type": "stream",
     "text": [
      "0.998163695222971\n",
      "---\n",
      "0.00523788235607742\n",
      "---\n",
      "0.0730979394601284*h\n"
     ]
    }
   ],
   "source": [
    "l = 63 / (60 / 6)  # Za 6 minut\n",
    "x = 0\n",
    "# Next car will arrive in 5 minutes\n",
    "print(1 - (l ** x) * exp(-l))\n",
    "print('---')\n",
    "\n",
    "l2 = 63 / (60 / 5)  # Za 5 minut\n",
    "l3 = 63 / (60 / 11)  # Za 11 minut\n",
    "print((l2 ** x) * exp(-l2) - (l3 ** x) * exp(-l3))\n",
    "print('---')\n",
    "\n",
    "t = symbols('t')\n",
    "n = (63 / (60 / t))  # Za t minut\n",
    "print(str(solve(1 - (n ** x) * exp(-n) - 0.99, t)[0] / 60) + '*h')\n"
   ]
  }
 ],
 "metadata": {
  "kernelspec": {
   "display_name": "Python 3.8.5 64-bit",
   "language": "python",
   "name": "python3"
  },
  "language_info": {
   "codemirror_mode": {
    "name": "ipython",
    "version": 3
   },
   "file_extension": ".py",
   "mimetype": "text/x-python",
   "name": "python",
   "nbconvert_exporter": "python",
   "pygments_lexer": "ipython3",
   "version": "3.8.5"
  },
  "orig_nbformat": 4,
  "vscode": {
   "interpreter": {
    "hash": "570feb405e2e27c949193ac68f46852414290d515b0ba6e5d90d076ed2284471"
   }
  }
 },
 "nbformat": 4,
 "nbformat_minor": 2
}
