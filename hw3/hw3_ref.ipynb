{
 "cells": [
  {
   "cell_type": "code",
   "execution_count": 1,
   "metadata": {},
   "outputs": [],
   "source": [
    "from sympy import symbols, integrate, Eq, solve, solveset, Rational, oo, Integral, simplify, factor, S, exp\n",
    "from sympy.abc import a\n"
   ]
  },
  {
   "cell_type": "code",
   "execution_count": 2,
   "metadata": {},
   "outputs": [
    {
     "name": "stdout",
     "output_type": "stream",
     "text": [
      "c = 5/18\n",
      "---\n",
      "0\n",
      "4*(a - 2)**2/81\n",
      "(5*a**2 - 50*a + 141)/36\n",
      "1\n",
      "---\n",
      "F(2.6) =  0.0177777777777777\n",
      "1 - F(6.8) =  0.105555555555557\n",
      "---\n",
      "143/27\n"
     ]
    }
   ],
   "source": [
    "x = symbols('x')\n",
    "c = symbols('c')\n",
    "\n",
    "f1 = Rational(8, 81)* (x - 2)\n",
    "f2 = c*(x - 5)\n",
    "\n",
    "s1 = integrate(f1, (x, 2, 5))\n",
    "s2 = integrate(f2, (x, 5, 7))\n",
    "\n",
    "eq = Eq(s1 + s2, 1)\n",
    "\n",
    "c_res = solve(eq, c)[0]\n",
    "c_ref = Rational(5,18)\n",
    "\n",
    "assert(c_res == c_ref)\n",
    "print(\"c =\", c_res)\n",
    "print('---')\n",
    "\n",
    "f2 = f2.subs({ c: c_res})\n",
    "\n",
    "d0 = 0\n",
    "d1 = integrate(f1, (x, 2, a))\n",
    "d2 = integrate(f1, (x, 2, 5)) + integrate(f2, (x, 5, a))\n",
    "d3 = integrate(f1, (x, 2, 5)) + integrate(f2, (x, 5, 7))\n",
    "\n",
    "d0_ref = 0\n",
    "d1_ref = Rational(4, 81)*(a-2)**2\n",
    "d2_ref = Rational(4, 9)+S(5)/36*(a-5)**2\n",
    "d3_ref = 1\n",
    "\n",
    "assert(factor(d0) == factor(d0_ref))\n",
    "assert(factor(d1) == factor(d1_ref))\n",
    "assert(factor(d2) == factor(d2_ref))\n",
    "assert(factor(d3) == factor(d3_ref))\n",
    "print(factor(d0))\n",
    "print(factor(d1))\n",
    "print(factor(d2))\n",
    "print(factor(d3))\n",
    "print(\"---\")\n",
    "print(\"F(2.6) = \", d1.subs({a: 2.6}))\n",
    "print(\"1 - F(6.8) = \", 1 - d2.subs({a: 6.8}))\n",
    "print(\"---\")\n",
    "print(integrate(x * f1, (x, 2, 5)) + integrate(x * f2, (x, 5, 7)))\n"
   ]
  },
  {
   "cell_type": "code",
   "execution_count": 3,
   "metadata": {},
   "outputs": [
    {
     "name": "stdout",
     "output_type": "stream",
     "text": [
      "0.998365905852944\n",
      "---\n",
      "0.000443191139782833\n",
      "---\n",
      "0.0389056139422596*h\n"
     ]
    }
   ],
   "source": [
    "l = 77 / (60 / 5) # Za 5 minut\n",
    "x = 0\n",
    "# Next car will arrive in 5 minutes\n",
    "print(1 - (l ** x) * exp(-l))\n",
    "print('---')\n",
    "\n",
    "l2 = 77 / (60 / 6) # Za 6 minut\n",
    "l3 = 77 / (60 / 9) # Za 9 minut\n",
    "print((l2 ** x) * exp(-l2) - (l3 ** x) * exp(-l3))\n",
    "print('---')\n",
    "\n",
    "t = symbols('t')\n",
    "n = (77 / (60 / t)) # Za t minut\n",
    "print(str(solve(1 - (n ** x) * exp(-n) - 0.95, t)[0] / 60) + '*h')\n"
   ]
  }
 ],
 "metadata": {
  "kernelspec": {
   "display_name": "Python 3.8.5 64-bit",
   "language": "python",
   "name": "python3"
  },
  "language_info": {
   "codemirror_mode": {
    "name": "ipython",
    "version": 3
   },
   "file_extension": ".py",
   "mimetype": "text/x-python",
   "name": "python",
   "nbconvert_exporter": "python",
   "pygments_lexer": "ipython3",
   "version": "3.8.5"
  },
  "orig_nbformat": 4,
  "vscode": {
   "interpreter": {
    "hash": "570feb405e2e27c949193ac68f46852414290d515b0ba6e5d90d076ed2284471"
   }
  }
 },
 "nbformat": 4,
 "nbformat_minor": 2
}
