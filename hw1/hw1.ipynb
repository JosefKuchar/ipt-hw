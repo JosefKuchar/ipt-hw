{
 "cells": [
  {
   "cell_type": "code",
   "execution_count": 11,
   "metadata": {},
   "outputs": [
    {
     "data": {
      "text/plain": [
       "0.343184"
      ]
     },
     "execution_count": 11,
     "metadata": {},
     "output_type": "execute_result"
    }
   ],
   "source": [
    "import numpy as np\n",
    "import random\n",
    "\n",
    "n = 1_000_000\n",
    "l = 0\n",
    "for i in range(n):\n",
    "    k = 0\n",
    "    for j in range(3):\n",
    "        if random.random() < 0.7:\n",
    "            k += 1\n",
    "    if k == 3:\n",
    "        l += 1\n",
    "l / n"
   ]
  },
  {
   "cell_type": "code",
   "execution_count": 12,
   "metadata": {},
   "outputs": [
    {
     "data": {
      "text/plain": [
       "0.783761"
      ]
     },
     "execution_count": 12,
     "metadata": {},
     "output_type": "execute_result"
    }
   ],
   "source": [
    "l = 0\n",
    "for i in range(n):\n",
    "    k = 0\n",
    "    for j in range(3):\n",
    "        if random.random() < 0.4:\n",
    "            l += 1\n",
    "            break\n",
    "l / n"
   ]
  },
  {
   "cell_type": "code",
   "execution_count": 21,
   "metadata": {},
   "outputs": [
    {
     "name": "stdout",
     "output_type": "stream",
     "text": [
      "0.494062\n",
      "(0.8089146706283826, 0.1390392298942238, 0.052046099477393526)\n"
     ]
    }
   ],
   "source": [
    "l = 0\n",
    "c = [0, 0, 0]\n",
    "for i in range(n):\n",
    "    company = random.random()\n",
    "    company_n = 0\n",
    "    chance = 0\n",
    "    if company < 0.4:\n",
    "        chance = 1\n",
    "        company_n = 0\n",
    "    elif company < 0.6:\n",
    "        chance = 0.7\n",
    "        company_n = 1\n",
    "    else:\n",
    "        chance = 0.4\n",
    "        company_n = 2\n",
    "    k = 0\n",
    "    for j in range(3):\n",
    "        if random.random() < chance:\n",
    "            k += 1\n",
    "    if k == 3:\n",
    "        l += 1\n",
    "        c[company_n] += 1\n",
    "print(l / n)\n",
    "print((c[0] / l, c[1] / l, c[2] / l))\n"
   ]
  }
 ],
 "metadata": {
  "kernelspec": {
   "display_name": "Python 3.8.5 64-bit",
   "language": "python",
   "name": "python3"
  },
  "language_info": {
   "codemirror_mode": {
    "name": "ipython",
    "version": 3
   },
   "file_extension": ".py",
   "mimetype": "text/x-python",
   "name": "python",
   "nbconvert_exporter": "python",
   "pygments_lexer": "ipython3",
   "version": "3.8.5"
  },
  "orig_nbformat": 4,
  "vscode": {
   "interpreter": {
    "hash": "570feb405e2e27c949193ac68f46852414290d515b0ba6e5d90d076ed2284471"
   }
  }
 },
 "nbformat": 4,
 "nbformat_minor": 2
}
