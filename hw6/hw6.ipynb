{
 "cells": [
  {
   "cell_type": "code",
   "execution_count": 30,
   "metadata": {},
   "outputs": [
    {
     "name": "stdout",
     "output_type": "stream",
     "text": [
      "a: 0.190000000000000 b: 0.0600000000000000\n",
      "1.00000000000000\n",
      "E(X) 3.96000000000000\n",
      "D(X) 3.27840000000000\n",
      "P(X <= 5|X = 5) 0.750000000000000\n"
     ]
    }
   ],
   "source": [
    "from sympy import Eq, symbols, solve, Float\n",
    "\n",
    "a = symbols('a')\n",
    "b = symbols('b')\n",
    "\n",
    "eq1 = Eq(Float('0.17') + a + Float('0.08') + Float('0.1') +\n",
    "         Float('0.08') + Float('0.13'), Float('0.75'))\n",
    "eq2 = Eq(Float('0.17') + a + Float('0.09') +\n",
    "         Float('0.08') + Float('0.1') + b, Float('0.69'))\n",
    "\n",
    "res = solve((eq1, eq2), (a, b))\n",
    "\n",
    "print(\"a:\", res[a], \"b:\", res[b])\n",
    "print(Float('0.17') + res[a] + Float('0.09') + Float('0.08') +\n",
    "      Float('0.1') + res[b] + Float('0.08') + Float('0.13') + Float('0.1'))\n",
    "\n",
    "# E(X)\n",
    "ex = 2 * (0.17 + res[a] + 0.09) + 5 * \\\n",
    "    (0.08 + 0.1 + res[b]) + 6 * (0.08 + 0.13 + 0.1)\n",
    "print(\"E(X)\", ex)\n",
    "# D(X)\n",
    "dx = (0.17 + res[a] + 0.09) * (2 ** 2) + \\\n",
    "    (0.08 + 0.1 + res[b]) * (5 ** 2) + (0.08 + 0.13 + 0.1) * (6 ** 2) - ex ** 2\n",
    "print(\"D(X)\", dx)\n",
    "\n",
    "# P(X <= 5|X = 5)\n",
    "print(\"P(X <= 5|X = 5)\", (Float('0.08') + Float('0.1')) / (Float('0.08') + Float('0.1') + res[b]))\n"
   ]
  }
 ],
 "metadata": {
  "kernelspec": {
   "display_name": "Python 3.8.5 64-bit",
   "language": "python",
   "name": "python3"
  },
  "language_info": {
   "codemirror_mode": {
    "name": "ipython",
    "version": 3
   },
   "file_extension": ".py",
   "mimetype": "text/x-python",
   "name": "python",
   "nbconvert_exporter": "python",
   "pygments_lexer": "ipython3",
   "version": "3.8.5"
  },
  "orig_nbformat": 4,
  "vscode": {
   "interpreter": {
    "hash": "570feb405e2e27c949193ac68f46852414290d515b0ba6e5d90d076ed2284471"
   }
  }
 },
 "nbformat": 4,
 "nbformat_minor": 2
}
