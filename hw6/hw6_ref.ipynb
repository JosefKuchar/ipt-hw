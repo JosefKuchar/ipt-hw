{
 "cells": [
  {
   "cell_type": "code",
   "execution_count": 4,
   "metadata": {},
   "outputs": [
    {
     "name": "stdout",
     "output_type": "stream",
     "text": [
      "a: 0.0500000000000000 b: 0.170000000000000\n",
      "1.00000000000000\n",
      "E(X) 5.11000000000000\n",
      "D(X) 3.51790000000000\n",
      "P(X <= 5|X = 3) 0.687500000000000\n"
     ]
    }
   ],
   "source": [
    "from sympy import Eq, symbols, solve, Float\n",
    "\n",
    "a = symbols('a')\n",
    "b = symbols('b')\n",
    "\n",
    "eq1 = Eq(Float('0.17') + a + Float('0.12') + Float('0.14') +\n",
    "         Float('0.05') + Float('0.1'), Float('0.63'))\n",
    "eq2 = Eq(Float('0.17') + a + Float('0.1') +\n",
    "         Float('0.12') + Float('0.14') + b, Float('0.75'))\n",
    "\n",
    "res = solve((eq1, eq2), (a, b))\n",
    "\n",
    "print(\"a:\", res[a], \"b:\", res[b])\n",
    "print(Float('0.17') + res[a] + Float('0.1') + Float('0.12') +\n",
    "      Float('0.14') + res[b] + Float('0.05') + Float('0.1') + Float('0.1'))\n",
    "\n",
    "# E(X)\n",
    "ex = 3 * (Float('0.17') + res[a] + Float('0.1')) + 5 * (Float('0.12') + Float(\n",
    "    '0.14') + res[b]) + 8 * (Float('0.05') + Float('0.1') + Float('0.1'))\n",
    "print(\"E(X)\", ex)\n",
    "# D(X)\n",
    "dx = (Float('0.17') + res[a] + Float('0.1')) * (3 ** 2) + \\\n",
    "    (Float('0.12') + Float('0.14') + res[b]) * (5 ** 2) + (Float('0.05') + Float('0.1') + Float('0.1')) * (8 ** 2) - ex ** 2\n",
    "print(\"D(X)\", dx)\n",
    "\n",
    "# P(X <= 5|X = 3)\n",
    "print(\"P(X <= 5|X = 3)\", (Float('0.17') + res[a]) / (Float('0.17') + res[a] + Float('0.1')))"
   ]
  }
 ],
 "metadata": {
  "kernelspec": {
   "display_name": "Python 3.8.5 64-bit",
   "language": "python",
   "name": "python3"
  },
  "language_info": {
   "codemirror_mode": {
    "name": "ipython",
    "version": 3
   },
   "file_extension": ".py",
   "mimetype": "text/x-python",
   "name": "python",
   "nbconvert_exporter": "python",
   "pygments_lexer": "ipython3",
   "version": "3.8.5"
  },
  "orig_nbformat": 4,
  "vscode": {
   "interpreter": {
    "hash": "570feb405e2e27c949193ac68f46852414290d515b0ba6e5d90d076ed2284471"
   }
  }
 },
 "nbformat": 4,
 "nbformat_minor": 2
}
