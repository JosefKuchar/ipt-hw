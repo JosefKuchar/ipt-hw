{
 "cells": [
  {
   "cell_type": "code",
   "execution_count": 2,
   "metadata": {},
   "outputs": [],
   "source": [
    "from sympy import Float, Eq, solve, symbols\n",
    "import math\n",
    "\n",
    "table = [\n",
    "(Float('0.00'), Float('0.5000000')), (Float('0.30'), Float('0.6179114')), (Float('0.60'), Float('0.7257469')), (Float('0.90'), Float('0.8159399')), (Float('1.20'), Float('0.8849303')),\n",
    "(Float('0.01'), Float('0.5039894')), (Float('0.31'), Float('0.6217195')), (Float('0.61'), Float('0.7290691')), (Float('0.91'), Float('0.8185887')), (Float('1.21'), Float('0.8868606')),\n",
    "(Float('0.02'), Float('0.5079783')), (Float('0.32'), Float('0.6255158')), (Float('0.62'), Float('0.7323711')), (Float('0.92'), Float('0.8212136')), (Float('1.22'), Float('0.8887676')),\n",
    "(Float('0.03'), Float('0.5119665')), (Float('0.33'), Float('0.6293000')), (Float('0.63'), Float('0.7356527')), (Float('0.93'), Float('0.8238145')), (Float('1.23'), Float('0.8906514')),\n",
    "(Float('0.04'), Float('0.5159534')), (Float('0.34'), Float('0.6330717')), (Float('0.64'), Float('0.7389137')), (Float('0.94'), Float('0.8263912')), (Float('1.24'), Float('0.8925123')),\n",
    "(Float('0.05'), Float('0.5199388')), (Float('0.35'), Float('0.6368307')), (Float('0.65'), Float('0.7421539')), (Float('0.95'), Float('0.8289439')), (Float('1.25'), Float('0.8943502')),\n",
    "(Float('0.06'), Float('0.5239222')), (Float('0.36'), Float('0.6405764')), (Float('0.66'), Float('0.7453731')), (Float('0.96'), Float('0.8314724')), (Float('1.26'), Float('0.8961653')),\n",
    "(Float('0.07'), Float('0.5279032')), (Float('0.37'), Float('0.6443088')), (Float('0.67'), Float('0.7485711')), (Float('0.97'), Float('0.8339768')), (Float('1.27'), Float('0.8979577')),\n",
    "(Float('0.08'), Float('0.5318814')), (Float('0.38'), Float('0.6480273')), (Float('0.68'), Float('0.7517478')), (Float('0.98'), Float('0.8364569')), (Float('1.28'), Float('0.8997274')),\n",
    "(Float('0.09'), Float('0.5358564')), (Float('0.39'), Float('0.6517317')), (Float('0.69'), Float('0.7549029')), (Float('0.99'), Float('0.8389129')), (Float('1.29'), Float('0.9014747')),\n",
    "(Float('0.10'), Float('0.5398278')), (Float('0.40'), Float('0.6554217')), (Float('0.70'), Float('0.7580363')), (Float('1.00'), Float('0.8413447')), (Float('1.30'), Float('0.9031995')),\n",
    "(Float('0.11'), Float('0.5437953')), (Float('0.41'), Float('0.6590970')), (Float('0.71'), Float('0.7611479')), (Float('1.01'), Float('0.8437524')), (Float('1.31'), Float('0.9049021')),\n",
    "(Float('0.12'), Float('0.5477584')), (Float('0.42'), Float('0.6627573')), (Float('0.72'), Float('0.7642375')), (Float('1.02'), Float('0.8461358')), (Float('1.32'), Float('0.9065825')),\n",
    "(Float('0.13'), Float('0.5517168')), (Float('0.43'), Float('0.6664022')), (Float('0.73'), Float('0.7673049')), (Float('1.03'), Float('0.8484950')), (Float('1.33'), Float('0.9082409')),\n",
    "(Float('0.14'), Float('0.5556700')), (Float('0.44'), Float('0.6700314')), (Float('0.74'), Float('0.7703500')), (Float('1.04'), Float('0.8508300')), (Float('1.34'), Float('0.9098773')),\n",
    "(Float('0.15'), Float('0.5596177')), (Float('0.45'), Float('0.6736448')), (Float('0.75'), Float('0.7733726')), (Float('1.05'), Float('0.8531409')), (Float('1.35'), Float('0.9114920')),\n",
    "(Float('0.16'), Float('0.5635595')), (Float('0.46'), Float('0.6772419')), (Float('0.76'), Float('0.7763727')), (Float('1.06'), Float('0.8554277')), (Float('1.36'), Float('0.9130850')),\n",
    "(Float('0.17'), Float('0.5674949')), (Float('0.47'), Float('0.6808225')), (Float('0.77'), Float('0.7793501')), (Float('1.07'), Float('0.8576903')), (Float('1.37'), Float('0.9146565')),\n",
    "(Float('0.18'), Float('0.5714237')), (Float('0.48'), Float('0.6843863')), (Float('0.78'), Float('0.7823046')), (Float('1.08'), Float('0.8599289')), (Float('1.38'), Float('0.9162067')),\n",
    "(Float('0.19'), Float('0.5753454')), (Float('0.49'), Float('0.6879331')), (Float('0.79'), Float('0.7852361')), (Float('1.09'), Float('0.8621434')), (Float('1.39'), Float('0.9177356')),\n",
    "(Float('0.20'), Float('0.5792597')), (Float('0.50'), Float('0.6914625')), (Float('0.80'), Float('0.7881446')), (Float('1.10'), Float('0.8643339')), (Float('1.40'), Float('0.9192433')),\n",
    "(Float('0.21'), Float('0.5831662')), (Float('0.51'), Float('0.6949743')), (Float('0.81'), Float('0.7910299')), (Float('1.11'), Float('0.8665005')), (Float('1.41'), Float('0.9207302')),\n",
    "(Float('0.22'), Float('0.5870604')), (Float('0.52'), Float('0.6984682')), (Float('0.82'), Float('0.7938919')), (Float('1.12'), Float('0.8686431')), (Float('1.42'), Float('0.9221962')),\n",
    "(Float('0.23'), Float('0.5909541')), (Float('0.53'), Float('0.7019440')), (Float('0.83'), Float('0.7967306')), (Float('1.13'), Float('0.8707619')), (Float('1.43'), Float('0.9236415')),\n",
    "(Float('0.24'), Float('0.5948349')), (Float('0.54'), Float('0.7054015')), (Float('0.84'), Float('0.7995458')), (Float('1.14'), Float('0.8728568')), (Float('1.44'), Float('0.9250663')),\n",
    "(Float('0.25'), Float('0.5987063')), (Float('0.55'), Float('0.7088403')), (Float('0.85'), Float('0.8023375')), (Float('1.15'), Float('0.8749281')), (Float('1.45'), Float('0.9264707')),\n",
    "(Float('0.26'), Float('0.6025681')), (Float('0.56'), Float('0.7122603')), (Float('0.86'), Float('0.8051055')), (Float('1.16'), Float('0.8769756')), (Float('1.46'), Float('0.9278550')),\n",
    "(Float('0.27'), Float('0.6064199')), (Float('0.57'), Float('0.7156612')), (Float('0.87'), Float('0.8078498')), (Float('1.17'), Float('0.8789995')), (Float('1.47'), Float('0.9292191')),\n",
    "(Float('0.28'), Float('0.6102612')), (Float('0.58'), Float('0.7190427')), (Float('0.88'), Float('0.8105703')), (Float('1.18'), Float('0.8809999')), (Float('1.48'), Float('0.9305634')),\n",
    "(Float('0.29'), Float('0.6140919')), (Float('0.59'), Float('0.7224047')), (Float('0.89'), Float('0.8132671')), (Float('1.19'), Float('0.8829768')), (Float('1.49'), Float('0.9318879')),\n",
    "(Float('1.50'), Float('0.9331928')), (Float('1.80'), Float('0.9640697')), (Float('2.10'), Float('0.9821356')), (Float('2.40'), Float('0.9918025')), (Float('4.50'), Float('0.9999966')),\n",
    "(Float('1.51'), Float('0.9344783')), (Float('1.81'), Float('0.9648521')), (Float('2.11'), Float('0.9825708')), (Float('2.41'), Float('0.9920237')), (Float('5.00'), Float('0.9999997')),\n",
    "(Float('1.52'), Float('0.9357445')), (Float('1.82'), Float('0.9656205')), (Float('2.12'), Float('0.9829970')), (Float('2.42'), Float('0.9922397')), (Float('5.50'), Float('0.9999999')),\n",
    "(Float('1.53'), Float('0.9369916')), (Float('1.83'), Float('0.9663750')), (Float('2.13'), Float('0.9834142')), (Float('2.43'), Float('0.9924506')),\n",
    "(Float('1.54'), Float('0.9382198')), (Float('1.84'), Float('0.9671159')), (Float('2.14'), Float('0.9838226')), (Float('2.44'), Float('0.9926564')),\n",
    "(Float('1.55'), Float('0.9394392')), (Float('1.85'), Float('0.9678432')), (Float('2.15'), Float('0.9842224')), (Float('2.45'), Float('0.9928572')),\n",
    "(Float('1.56'), Float('0.9406201')), (Float('1.86'), Float('0.9685572')), (Float('2.16'), Float('0.9846137')), (Float('2.46'), Float('0.9930531')),\n",
    "(Float('1.57'), Float('0.9417924')), (Float('1.87'), Float('0.9692581')), (Float('2.17'), Float('0.9849966')), (Float('2.47'), Float('0.9932443')),\n",
    "(Float('1.58'), Float('0.9429466')), (Float('1.88'), Float('0.9699460')), (Float('2.18'), Float('0.9853713')), (Float('2.48'), Float('0.9934309')),\n",
    "(Float('1.59'), Float('0.9440826')), (Float('1.89'), Float('0.9706210')), (Float('2.19'), Float('0.9857379')), (Float('2.49'), Float('0.9936128')),\n",
    "(Float('1.60'), Float('0.9452007')), (Float('1.90'), Float('0.9712834')), (Float('2.20'), Float('0.9860966')), (Float('2.50'), Float('0.9937903')),\n",
    "(Float('1.61'), Float('0.9463011')), (Float('1.91'), Float('0.9719334')), (Float('2.21'), Float('0.9864474')), (Float('2.51'), Float('0.9939634')),\n",
    "(Float('1.62'), Float('0.9473839')), (Float('1.92'), Float('0.9725711')), (Float('2.22'), Float('0.9867906')), (Float('2.52'), Float('0.9941323')),\n",
    "(Float('1.63'), Float('0.9484493')), (Float('1.93'), Float('0.9731966')), (Float('2.23'), Float('0.9871263')), (Float('2.53'), Float('0.9942969')),\n",
    "(Float('1.64'), Float('0.9494974')), (Float('1.94'), Float('0.9738102')), (Float('2.24'), Float('0.9874545')), (Float('2.54'), Float('0.9944574')),\n",
    "(Float('1.65'), Float('0.9505285')), (Float('1.95'), Float('0.9744119')), (Float('2.25'), Float('0.9877755')), (Float('2.55'), Float('0.9946139')),\n",
    "(Float('1.66'), Float('0.9515428')), (Float('1.96'), Float('0.9750021')), (Float('2.26'), Float('0.9880894')), (Float('2.56'), Float('0.9947664')),\n",
    "(Float('1.67'), Float('0.9525403')), (Float('1.97'), Float('0.9755808')), (Float('2.27'), Float('0.9883962')), (Float('2.57'), Float('0.9949151')),\n",
    "(Float('1.68'), Float('0.9535213')), (Float('1.98'), Float('0.9761482')), (Float('2.28'), Float('0.9886962')), (Float('2.58'), Float('0.9950600')),\n",
    "(Float('1.69'), Float('0.9544860')), (Float('1.99'), Float('0.9767045')), (Float('2.29'), Float('0.9889893')), (Float('2.59'), Float('0.9952012')),\n",
    "(Float('1.70'), Float('0.9554345')), (Float('2.00'), Float('0.9772499')), (Float('2.30'), Float('0.9892759')), (Float('2.60'), Float('0.9953388')),\n",
    "(Float('1.71'), Float('0.9563671')), (Float('2.01'), Float('0.9777844')), (Float('2.31'), Float('0.9895559')), (Float('2.70'), Float('0.9965330')),\n",
    "(Float('1.72'), Float('0.9572838')), (Float('2.02'), Float('0.9783083')), (Float('2.32'), Float('0.9898296')), (Float('2.80'), Float('0.9974449')),\n",
    "(Float('1.73'), Float('0.9581849')), (Float('2.03'), Float('0.9788217')), (Float('2.33'), Float('0.9900969')), (Float('2.90'), Float('0.9981342')),\n",
    "(Float('1.74'), Float('0.9590705')), (Float('2.04'), Float('0.9793248')), (Float('2.34'), Float('0.9903581')), (Float('3.00'), Float('0.9986501')),\n",
    "(Float('1.75'), Float('0.9599408')), (Float('2.05'), Float('0.9798178')), (Float('2.35'), Float('0.9906133')), (Float('3.20'), Float('0.9993129')),\n",
    "(Float('1.76'), Float('0.9607961')), (Float('2.06'), Float('0.9803007')), (Float('2.36'), Float('0.9908625')), (Float('3.40'), Float('0.9996631')),\n",
    "(Float('1.77'), Float('0.9616364')), (Float('2.07'), Float('0.9807738')), (Float('2.37'), Float('0.9911060')), (Float('3.60'), Float('0.9998409')),\n",
    "(Float('1.78'), Float('0.9624620')), (Float('2.08'), Float('0.9812372')), (Float('2.38'), Float('0.9913437')), (Float('3.80'), Float('0.9999277')),\n",
    "(Float('1.79'), Float('0.9632730')), (Float('2.09'), Float('0.9816911')), (Float('2.39'), Float('0.9915758')), (Float('4.00'), Float('0.9999683')),\n",
    "]"
   ]
  },
  {
   "cell_type": "code",
   "execution_count": 3,
   "metadata": {},
   "outputs": [
    {
     "data": {
      "text/latex": [
       "$\\displaystyle 0.0968005$"
      ],
      "text/plain": [
       "0.0968005000000000"
      ]
     },
     "execution_count": 3,
     "metadata": {},
     "output_type": "execute_result"
    }
   ],
   "source": [
    "u = 1200\n",
    "os = 900\n",
    "\n",
    "U1 = (1239 - u) / math.sqrt(os)\n",
    "\n",
    "value = [item for item in table if item[0] == abs(U1)][0][1]\n",
    "\n",
    "if (U1 > 0):\n",
    "    value = 1 - value\n",
    "\n",
    "value\n"
   ]
  },
  {
   "cell_type": "code",
   "execution_count": 4,
   "metadata": {},
   "outputs": [
    {
     "data": {
      "text/latex": [
       "$\\displaystyle 0.5124525$"
      ],
      "text/plain": [
       "0.512452500000000"
      ]
     },
     "execution_count": 4,
     "metadata": {},
     "output_type": "execute_result"
    }
   ],
   "source": [
    "u = 1200\n",
    "os = 900\n",
    "\n",
    "U1 = (1194 - u) / math.sqrt(os)\n",
    "U2 = (1245 - u) / math.sqrt(os)\n",
    "\n",
    "value1 = [item for item in table if item[0] == abs(U1)][0][1]\n",
    "value2 = [item for item in table if item[0] == abs(U2)][0][1]\n",
    "\n",
    "if (U1 < 0):\n",
    "    value1 = 1 - value1\n",
    "if (U2 < 0):\n",
    "    value2 = 1 - value2\n",
    "\n",
    "value2 - value1"
   ]
  },
  {
   "cell_type": "code",
   "execution_count": 10,
   "metadata": {},
   "outputs": [
    {
     "data": {
      "text/latex": [
       "$\\displaystyle 1179.6$"
      ],
      "text/plain": [
       "1179.60000000000"
      ]
     },
     "execution_count": 10,
     "metadata": {},
     "output_type": "execute_result"
    }
   ],
   "source": [
    "u = 1200\n",
    "os = 900\n",
    "\n",
    "x = symbols('x')\n",
    "eq = Eq((x - u) / math.sqrt(900), 0.68)\n",
    "res = solve(eq, x)[0]\n",
    "u - (res - u)"
   ]
  },
  {
   "cell_type": "code",
   "execution_count": 21,
   "metadata": {},
   "outputs": [
    {
     "name": "stdout",
     "output_type": "stream",
     "text": [
      "350 245\n",
      "0.9986257999999999\n"
     ]
    },
    {
     "data": {
      "text/latex": [
       "$\\displaystyle 324.25167723909$"
      ],
      "text/plain": [
       "324.251677239090"
      ]
     },
     "execution_count": 21,
     "metadata": {},
     "output_type": "execute_result"
    }
   ],
   "source": [
    "mean = 10\n",
    "scatter = 7\n",
    "n = 35\n",
    "\n",
    "mean = n * mean\n",
    "scatter = n * scatter\n",
    "print(mean, scatter)\n",
    "\n",
    "P1_1 = (300 - mean) / math.sqrt(scatter)\n",
    "P1_2 = (400 - mean) / math.sqrt(scatter)\n",
    "\n",
    "print(0.9993129 - (1 - 0.9993129))\n",
    "\n",
    "x = symbols('x')\n",
    "eq = Eq((x - mean) / math.sqrt(scatter), 1.645)\n",
    "res = solve(eq, x)[0]\n",
    "mean - (res - mean)\n"
   ]
  },
  {
   "cell_type": "code",
   "execution_count": null,
   "metadata": {},
   "outputs": [],
   "source": []
  }
 ],
 "metadata": {
  "kernelspec": {
   "display_name": "Python 3.8.5 64-bit",
   "language": "python",
   "name": "python3"
  },
  "language_info": {
   "codemirror_mode": {
    "name": "ipython",
    "version": 3
   },
   "file_extension": ".py",
   "mimetype": "text/x-python",
   "name": "python",
   "nbconvert_exporter": "python",
   "pygments_lexer": "ipython3",
   "version": "3.8.5"
  },
  "orig_nbformat": 4,
  "vscode": {
   "interpreter": {
    "hash": "570feb405e2e27c949193ac68f46852414290d515b0ba6e5d90d076ed2284471"
   }
  }
 },
 "nbformat": 4,
 "nbformat_minor": 2
}
